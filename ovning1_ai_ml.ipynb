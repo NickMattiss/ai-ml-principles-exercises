{
  "nbformat": 4,
  "nbformat_minor": 0,
  "metadata": {
    "colab": {
      "provenance": [],
      "authorship_tag": "ABX9TyOeLxDz2MGAFRWOuKayKd1q",
      "include_colab_link": true
    },
    "kernelspec": {
      "name": "python3",
      "display_name": "Python 3"
    },
    "language_info": {
      "name": "python"
    }
  },
  "cells": [
    {
      "cell_type": "markdown",
      "metadata": {
        "id": "view-in-github",
        "colab_type": "text"
      },
      "source": [
        "<a href=\"https://colab.research.google.com/github/NickMattiss/ai-ml-principles-exercises/blob/main/ovning1_ai_ml.ipynb\" target=\"_parent\"><img src=\"https://colab.research.google.com/assets/colab-badge.svg\" alt=\"Open In Colab\"/></a>"
      ]
    },
    {
      "cell_type": "code",
      "execution_count": 2,
      "metadata": {
        "id": "RAg_1daug2cM"
      },
      "outputs": [],
      "source": [
        "import sklearn\n",
        "import numpy as np"
      ]
    },
    {
      "cell_type": "code",
      "source": [
        "import sklearn.datasets as datasets"
      ],
      "metadata": {
        "id": "TaocI3DlkZWB"
      },
      "execution_count": 3,
      "outputs": []
    },
    {
      "cell_type": "code",
      "source": [
        "data = datasets.load_digits()"
      ],
      "metadata": {
        "id": "TFPTyhUDkfPe"
      },
      "execution_count": 4,
      "outputs": []
    },
    {
      "cell_type": "code",
      "source": [
        "data.keys()"
      ],
      "metadata": {
        "colab": {
          "base_uri": "https://localhost:8080/"
        },
        "id": "EHpVNMSFkfo-",
        "outputId": "1952aea5-6020-4f57-bdd3-82ad07c48977"
      },
      "execution_count": 5,
      "outputs": [
        {
          "output_type": "execute_result",
          "data": {
            "text/plain": [
              "dict_keys(['data', 'target', 'frame', 'feature_names', 'target_names', 'images', 'DESCR'])"
            ]
          },
          "metadata": {},
          "execution_count": 5
        }
      ]
    },
    {
      "cell_type": "code",
      "source": [
        "len(data.images)"
      ],
      "metadata": {
        "colab": {
          "base_uri": "https://localhost:8080/"
        },
        "id": "LwFaoHQwkn3H",
        "outputId": "b6a0cc34-cf20-49f3-86b2-f5c020d1eb36"
      },
      "execution_count": 6,
      "outputs": [
        {
          "output_type": "execute_result",
          "data": {
            "text/plain": [
              "1797"
            ]
          },
          "metadata": {},
          "execution_count": 6
        }
      ]
    },
    {
      "cell_type": "code",
      "source": [
        "type(data.images[0])"
      ],
      "metadata": {
        "id": "rnyNv0PQk3Q3",
        "outputId": "0040f469-3efb-4bff-90fd-fdbfeac7af87",
        "colab": {
          "base_uri": "https://localhost:8080/"
        }
      },
      "execution_count": 7,
      "outputs": [
        {
          "output_type": "execute_result",
          "data": {
            "text/plain": [
              "numpy.ndarray"
            ]
          },
          "metadata": {},
          "execution_count": 7
        }
      ]
    },
    {
      "cell_type": "code",
      "source": [
        "data.images[0].shape"
      ],
      "metadata": {
        "colab": {
          "base_uri": "https://localhost:8080/"
        },
        "id": "rEa8aASnk8H9",
        "outputId": "e3dbff0f-2217-47b8-a823-f7180e7b2374"
      },
      "execution_count": 8,
      "outputs": [
        {
          "output_type": "execute_result",
          "data": {
            "text/plain": [
              "(8, 8)"
            ]
          },
          "metadata": {},
          "execution_count": 8
        }
      ]
    },
    {
      "cell_type": "code",
      "source": [
        "data.images[0]"
      ],
      "metadata": {
        "colab": {
          "base_uri": "https://localhost:8080/"
        },
        "id": "pmHSZsnulK8-",
        "outputId": "7be32f77-d1ee-4992-b85a-9eca21c0d460"
      },
      "execution_count": 9,
      "outputs": [
        {
          "output_type": "execute_result",
          "data": {
            "text/plain": [
              "array([[ 0.,  0.,  5., 13.,  9.,  1.,  0.,  0.],\n",
              "       [ 0.,  0., 13., 15., 10., 15.,  5.,  0.],\n",
              "       [ 0.,  3., 15.,  2.,  0., 11.,  8.,  0.],\n",
              "       [ 0.,  4., 12.,  0.,  0.,  8.,  8.,  0.],\n",
              "       [ 0.,  5.,  8.,  0.,  0.,  9.,  8.,  0.],\n",
              "       [ 0.,  4., 11.,  0.,  1., 12.,  7.,  0.],\n",
              "       [ 0.,  2., 14.,  5., 10., 12.,  0.,  0.],\n",
              "       [ 0.,  0.,  6., 13., 10.,  0.,  0.,  0.]])"
            ]
          },
          "metadata": {},
          "execution_count": 9
        }
      ]
    },
    {
      "cell_type": "code",
      "source": [
        "data.images[0].dtype"
      ],
      "metadata": {
        "colab": {
          "base_uri": "https://localhost:8080/"
        },
        "id": "HnizIFIhlVhD",
        "outputId": "ba56a44b-5917-400c-c5d4-767635705952"
      },
      "execution_count": 10,
      "outputs": [
        {
          "output_type": "execute_result",
          "data": {
            "text/plain": [
              "dtype('float64')"
            ]
          },
          "metadata": {},
          "execution_count": 10
        }
      ]
    },
    {
      "cell_type": "code",
      "source": [
        "data.target[0]"
      ],
      "metadata": {
        "colab": {
          "base_uri": "https://localhost:8080/"
        },
        "id": "h_mpXtoylN3S",
        "outputId": "16485199-2806-41ba-9478-57969b6d6477"
      },
      "execution_count": 11,
      "outputs": [
        {
          "output_type": "execute_result",
          "data": {
            "text/plain": [
              "0"
            ]
          },
          "metadata": {},
          "execution_count": 11
        }
      ]
    },
    {
      "cell_type": "code",
      "source": [],
      "metadata": {
        "id": "6HI4l8HElaIh"
      },
      "execution_count": 11,
      "outputs": []
    },
    {
      "cell_type": "code",
      "source": [
        "np.max(data.images)"
      ],
      "metadata": {
        "colab": {
          "base_uri": "https://localhost:8080/"
        },
        "id": "CpHlmuORldyg",
        "outputId": "8837b51f-6a8e-4745-970d-02dbf5c4c7a0"
      },
      "execution_count": 13,
      "outputs": [
        {
          "output_type": "execute_result",
          "data": {
            "text/plain": [
              "16.0"
            ]
          },
          "metadata": {},
          "execution_count": 13
        }
      ]
    },
    {
      "cell_type": "code",
      "source": [
        "(data.images[0] / 16 * 255).astype(np.uint8)"
      ],
      "metadata": {
        "colab": {
          "base_uri": "https://localhost:8080/"
        },
        "id": "Xb8k1gnQleI1",
        "outputId": "67f613fe-003a-4d78-88dc-1977ad2c214e"
      },
      "execution_count": 12,
      "outputs": [
        {
          "output_type": "execute_result",
          "data": {
            "text/plain": [
              "array([[  0,   0,  79, 207, 143,  15,   0,   0],\n",
              "       [  0,   0, 207, 239, 159, 239,  79,   0],\n",
              "       [  0,  47, 239,  31,   0, 175, 127,   0],\n",
              "       [  0,  63, 191,   0,   0, 127, 127,   0],\n",
              "       [  0,  79, 127,   0,   0, 143, 127,   0],\n",
              "       [  0,  63, 175,   0,  15, 191, 111,   0],\n",
              "       [  0,  31, 223,  79, 159, 191,   0,   0],\n",
              "       [  0,   0,  95, 207, 159,   0,   0,   0]], dtype=uint8)"
            ]
          },
          "metadata": {},
          "execution_count": 12
        }
      ]
    },
    {
      "cell_type": "code",
      "source": [
        "from PIL import Image"
      ],
      "metadata": {
        "id": "D-drhxaoleMK"
      },
      "execution_count": 14,
      "outputs": []
    },
    {
      "cell_type": "code",
      "source": [
        "i = 7\n",
        "print(data.target[i])\n",
        "Image.fromarray((data.images[i] / 16 * 255).astype(np.uint8), \"L\").resize((100, 100), resample=Image.NEAREST)"
      ],
      "metadata": {
        "colab": {
          "base_uri": "https://localhost:8080/",
          "height": 135
        },
        "id": "n8AqRyiOlePC",
        "outputId": "201c2e92-dbcc-43e3-deda-e465b47ead5f"
      },
      "execution_count": 15,
      "outputs": [
        {
          "output_type": "stream",
          "name": "stdout",
          "text": [
            "7\n"
          ]
        },
        {
          "output_type": "execute_result",
          "data": {
            "text/plain": [
              "<PIL.Image.Image image mode=L size=100x100 at 0x7F9C33789350>"
            ],
            "image/png": "[encoded data removed]"
          },
          "metadata": {},
          "execution_count": 15
        }
      ]
    },
    {
      "cell_type": "code",
      "source": [
        "data.images.shape"
      ],
      "metadata": {
        "colab": {
          "base_uri": "https://localhost:8080/"
        },
        "id": "0acIlCDanUzX",
        "outputId": "a4cba3c9-bf01-4c18-864b-0076749fb101"
      },
      "execution_count": 16,
      "outputs": [
        {
          "output_type": "execute_result",
          "data": {
            "text/plain": [
              "(1797, 8, 8)"
            ]
          },
          "metadata": {},
          "execution_count": 16
        }
      ]
    },
    {
      "cell_type": "code",
      "source": [
        "# -1 means getting the rest of the dimensions needed\n",
        "data.images.reshape(len(data.images), -1).shape"
      ],
      "metadata": {
        "colab": {
          "base_uri": "https://localhost:8080/"
        },
        "id": "yGXdXAhb7nmb",
        "outputId": "2ee46caa-ef91-4bb3-ade0-004e5d91b7eb"
      },
      "execution_count": 17,
      "outputs": [
        {
          "output_type": "execute_result",
          "data": {
            "text/plain": [
              "(1797, 64)"
            ]
          },
          "metadata": {},
          "execution_count": 17
        }
      ]
    },
    {
      "cell_type": "markdown",
      "source": [
        "# Train a model\n",
        "* Perform a dataset split into training data and test data\n",
        "* Train a SVM classifier\n",
        "* Evaluate the classifier"
      ],
      "metadata": {
        "id": "5hyY3y5f7G_M"
      }
    },
    {
      "cell_type": "code",
      "source": [
        "from sklearn.model_selection import train_test_split"
      ],
      "metadata": {
        "id": "CYoUJJ3x5TO7"
      },
      "execution_count": 18,
      "outputs": []
    },
    {
      "cell_type": "code",
      "source": [
        "flat_dataset = data.images.reshape(len(data.images), -1)\n",
        "x_train, x_test, y_train, y_test = train_test_split(flat_dataset, data.target, train_size=0.8) # 0.8 = 8% of data in training set"
      ],
      "metadata": {
        "id": "aWXKbhtC615P"
      },
      "execution_count": 19,
      "outputs": []
    },
    {
      "cell_type": "code",
      "source": [
        "x_train.shape"
      ],
      "metadata": {
        "colab": {
          "base_uri": "https://localhost:8080/"
        },
        "id": "KKysenRt85K4",
        "outputId": "3ad32f40-dc76-4f22-eb01-9f0e5c4ffe22"
      },
      "execution_count": 20,
      "outputs": [
        {
          "output_type": "execute_result",
          "data": {
            "text/plain": [
              "(1437, 64)"
            ]
          },
          "metadata": {},
          "execution_count": 20
        }
      ]
    },
    {
      "cell_type": "code",
      "source": [
        "x_test.shape"
      ],
      "metadata": {
        "colab": {
          "base_uri": "https://localhost:8080/"
        },
        "id": "2X00yoxB85Oi",
        "outputId": "651e1e24-7ce1-4d3f-9659-4107b0becab0"
      },
      "execution_count": 21,
      "outputs": [
        {
          "output_type": "execute_result",
          "data": {
            "text/plain": [
              "(360, 64)"
            ]
          },
          "metadata": {},
          "execution_count": 21
        }
      ]
    },
    {
      "cell_type": "code",
      "source": [
        "print(y_train[100])\n",
        "Image.fromarray((x_train[100].reshape(8,8) / 16 * 255).astype(np.uint8), \"L\").resize((100,100))"
      ],
      "metadata": {
        "colab": {
          "base_uri": "https://localhost:8080/",
          "height": 135
        },
        "id": "Rhv4OdAB9CiW",
        "outputId": "642bf7bd-179a-4496-abf6-41b170eb100a"
      },
      "execution_count": 22,
      "outputs": [
        {
          "output_type": "stream",
          "name": "stdout",
          "text": [
            "4\n"
          ]
        },
        {
          "output_type": "execute_result",
          "data": {
            "text/plain": [
              "<PIL.Image.Image image mode=L size=100x100 at 0x7F9C339D2550>"
            ],
            "image/png": "[encoded data removed]"
          },
          "metadata": {},
          "execution_count": 22
        }
      ]
    },
    {
      "cell_type": "code",
      "source": [
        "print(y_test[100])\n",
        "Image.fromarray((x_test[100].reshape(8,8) / 16 * 255).astype(np.uint8), \"L\").resize((100,100))"
      ],
      "metadata": {
        "colab": {
          "base_uri": "https://localhost:8080/",
          "height": 135
        },
        "id": "o6og4m8G9CmS",
        "outputId": "fff59047-8f75-4f0a-a4fe-7e0b5be5bf4a"
      },
      "execution_count": 23,
      "outputs": [
        {
          "output_type": "stream",
          "name": "stdout",
          "text": [
            "1\n"
          ]
        },
        {
          "output_type": "execute_result",
          "data": {
            "text/plain": [
              "<PIL.Image.Image image mode=L size=100x100 at 0x7F9C339D97D0>"
            ],
            "image/png": "[encoded data removed]"
          },
          "metadata": {},
          "execution_count": 23
        }
      ]
    },
    {
      "cell_type": "code",
      "source": [
        "from sklearn import svm"
      ],
      "metadata": {
        "id": "tCmiSRza-hnU"
      },
      "execution_count": 24,
      "outputs": []
    },
    {
      "cell_type": "code",
      "source": [
        "model = svm.SVC(gamma=0.001) # gamma=hyperparameter, needs to be tuned\n",
        "model.fit(x_train, y_train) # call fit to actually train the model"
      ],
      "metadata": {
        "colab": {
          "base_uri": "https://localhost:8080/"
        },
        "id": "viFrU5jz-hqu",
        "outputId": "72d61e71-07b8-4dda-c9d5-dc8d965e7118"
      },
      "execution_count": 25,
      "outputs": [
        {
          "output_type": "execute_result",
          "data": {
            "text/plain": [
              "SVC(gamma=0.001)"
            ]
          },
          "metadata": {},
          "execution_count": 25
        }
      ]
    },
    {
      "cell_type": "code",
      "source": [
        "model.predict(x_train[0:10]) # how we do the inference"
      ],
      "metadata": {
        "colab": {
          "base_uri": "https://localhost:8080/"
        },
        "id": "rNXCn35--ht6",
        "outputId": "a4dd3c02-a4fb-416a-e0cb-47a606bfaef7"
      },
      "execution_count": 26,
      "outputs": [
        {
          "output_type": "execute_result",
          "data": {
            "text/plain": [
              "array([2, 4, 1, 1, 0, 7, 3, 5, 8, 3])"
            ]
          },
          "metadata": {},
          "execution_count": 26
        }
      ]
    },
    {
      "cell_type": "code",
      "source": [
        "y_train[0:10]"
      ],
      "metadata": {
        "colab": {
          "base_uri": "https://localhost:8080/"
        },
        "id": "xs58EeBa_x5l",
        "outputId": "26063fb9-1df4-478c-9406-4235b908395c"
      },
      "execution_count": 27,
      "outputs": [
        {
          "output_type": "execute_result",
          "data": {
            "text/plain": [
              "array([2, 4, 1, 1, 0, 7, 3, 5, 8, 3])"
            ]
          },
          "metadata": {},
          "execution_count": 27
        }
      ]
    },
    {
      "cell_type": "code",
      "source": [
        "model.predict(x_test[0:10]) # how we do the inference"
      ],
      "metadata": {
        "colab": {
          "base_uri": "https://localhost:8080/"
        },
        "id": "vjzxkDdRAFBj",
        "outputId": "7ad70468-46eb-4eac-b680-57dbf56ec47c"
      },
      "execution_count": 28,
      "outputs": [
        {
          "output_type": "execute_result",
          "data": {
            "text/plain": [
              "array([5, 1, 7, 9, 4, 4, 2, 1, 3, 6])"
            ]
          },
          "metadata": {},
          "execution_count": 28
        }
      ]
    },
    {
      "cell_type": "code",
      "source": [
        "y_test[0:10]"
      ],
      "metadata": {
        "colab": {
          "base_uri": "https://localhost:8080/"
        },
        "id": "U_mc0c8RAFFV",
        "outputId": "7509f36d-239b-42a0-ecf0-87f89b227a5b"
      },
      "execution_count": 29,
      "outputs": [
        {
          "output_type": "execute_result",
          "data": {
            "text/plain": [
              "array([5, 1, 7, 9, 4, 4, 2, 1, 3, 6])"
            ]
          },
          "metadata": {},
          "execution_count": 29
        }
      ]
    },
    {
      "cell_type": "code",
      "source": [
        "from sklearn import metrics\n",
        "predicted = model.predict(x_test)\n",
        "print(metrics.classification_report(y_test, predicted))"
      ],
      "metadata": {
        "colab": {
          "base_uri": "https://localhost:8080/"
        },
        "id": "4U1f_3RwAVTM",
        "outputId": "6ebcdcbf-08d4-454d-a60a-80ad820ab671"
      },
      "execution_count": 30,
      "outputs": [
        {
          "output_type": "stream",
          "name": "stdout",
          "text": [
            "              precision    recall  f1-score   support\n",
            "\n",
            "           0       1.00      1.00      1.00        32\n",
            "           1       1.00      1.00      1.00        39\n",
            "           2       1.00      1.00      1.00        36\n",
            "           3       1.00      0.98      0.99        41\n",
            "           4       1.00      1.00      1.00        30\n",
            "           5       0.98      0.98      0.98        42\n",
            "           6       1.00      1.00      1.00        36\n",
            "           7       1.00      1.00      1.00        35\n",
            "           8       1.00      0.97      0.99        38\n",
            "           9       0.94      1.00      0.97        31\n",
            "\n",
            "    accuracy                           0.99       360\n",
            "   macro avg       0.99      0.99      0.99       360\n",
            "weighted avg       0.99      0.99      0.99       360\n",
            "\n"
          ]
        }
      ]
    },
    {
      "cell_type": "code",
      "source": [
        "metrics.ConfusionMatrixDisplay.from_predictions(y_test, predicted)"
      ],
      "metadata": {
        "colab": {
          "base_uri": "https://localhost:8080/",
          "height": 297
        },
        "id": "_zoXvjitAVWS",
        "outputId": "db9006c7-2079-4367-c4b0-b2d9bd00b980"
      },
      "execution_count": 31,
      "outputs": [
        {
          "output_type": "execute_result",
          "data": {
            "text/plain": [
              "<sklearn.metrics._plot.confusion_matrix.ConfusionMatrixDisplay at 0x7f9c339d2410>"
            ]
          },
          "metadata": {},
          "execution_count": 31
        },
        {
          "output_type": "display_data",
          "data": {
            "text/plain": [
              "<Figure size 432x288 with 2 Axes>"
            ],
            "image/png": "[encoded data removed]"
          },
          "metadata": {
            "needs_background": "light"
          }
        }
      ]
    },
    {
      "cell_type": "code",
      "source": [],
      "metadata": {
        "id": "saZptPI2Br40"
      },
      "execution_count": null,
      "outputs": []
    },
    {
      "cell_type": "markdown",
      "source": [
        "# Save the model to disk\n",
        "Save the model persistenly so that it can be loaded at a later time in another process for evaluation of inference."
      ],
      "metadata": {
        "id": "F_V57YqKh11L"
      }
    },
    {
      "cell_type": "code",
      "source": [
        "import pickle"
      ],
      "metadata": {
        "id": "esFRlK4tBr78"
      },
      "execution_count": 33,
      "outputs": []
    },
    {
      "cell_type": "code",
      "source": [
        "with open(\"model.pkl\", \"wb\") as fio: # w=write b=binary\n",
        "  pickle.dump(model, fio) # saves the model"
      ],
      "metadata": {
        "id": "GTXsWybgBr_y"
      },
      "execution_count": 34,
      "outputs": []
    },
    {
      "cell_type": "code",
      "source": [
        "with open(\"model.pkl\", \"rb\") as fio: # r=read b=binary\n",
        "  mymodel = pickle.load(fio) # load the model"
      ],
      "metadata": {
        "id": "-u1pgoTYBsDf"
      },
      "execution_count": 35,
      "outputs": []
    },
    {
      "cell_type": "code",
      "source": [
        "mymodel.predict(x_test[:10])"
      ],
      "metadata": {
        "id": "nWa5vRfkjVfe",
        "outputId": "8848eb50-830f-45fd-c8ef-c1706f8c0f94",
        "colab": {
          "base_uri": "https://localhost:8080/"
        }
      },
      "execution_count": 38,
      "outputs": [
        {
          "output_type": "execute_result",
          "data": {
            "text/plain": [
              "array([5, 1, 7, 9, 4, 4, 2, 1, 3, 6])"
            ]
          },
          "metadata": {},
          "execution_count": 38
        }
      ]
    },
    {
      "cell_type": "code",
      "source": [
        "y_test[:10]"
      ],
      "metadata": {
        "id": "XUrTiarujVjU",
        "outputId": "b996b7ba-15db-4ea1-ee1b-71a65afae463",
        "colab": {
          "base_uri": "https://localhost:8080/"
        }
      },
      "execution_count": 37,
      "outputs": [
        {
          "output_type": "execute_result",
          "data": {
            "text/plain": [
              "array([5, 1, 7, 9, 4, 4, 2, 1, 3, 6])"
            ]
          },
          "metadata": {},
          "execution_count": 37
        }
      ]
    },
    {
      "cell_type": "code",
      "source": [
        "im = Image.open(\"num1.jpg\").resize((8, 8))"
      ],
      "metadata": {
        "id": "-VjiFqI4jio3"
      },
      "execution_count": 64,
      "outputs": []
    },
    {
      "cell_type": "code",
      "source": [
        "np_im = np.array(im)"
      ],
      "metadata": {
        "id": "bL_3XFgTjirn"
      },
      "execution_count": 65,
      "outputs": []
    },
    {
      "cell_type": "code",
      "source": [
        "np_im.astype(np.float32) / 255 * 16"
      ],
      "metadata": {
        "id": "D6m8iCOXmP48",
        "outputId": "80b39f91-afe1-46a9-b8cb-bddd7e8ccb24",
        "colab": {
          "base_uri": "https://localhost:8080/"
        }
      },
      "execution_count": 66,
      "outputs": [
        {
          "output_type": "execute_result",
          "data": {
            "text/plain": [
              "array([[ 0.       ,  0.       ,  0.       ,  0.       ,  0.       ,\n",
              "         0.       ,  0.       ,  0.       ],\n",
              "       [ 0.       ,  0.       ,  0.9411765,  9.725491 ,  2.8862746,\n",
              "         0.       ,  0.       ,  0.       ],\n",
              "       [ 0.       ,  0.       ,  0.8784314, 12.8      ,  6.901961 ,\n",
              "         0.       ,  0.       ,  0.       ],\n",
              "       [ 0.       ,  0.       ,  0.       ,  8.470589 ,  8.784314 ,\n",
              "         0.       ,  0.       ,  0.       ],\n",
              "       [ 0.       ,  0.       ,  0.       ,  8.470589 ,  8.909804 ,\n",
              "         0.       ,  0.       ,  0.       ],\n",
              "       [ 0.       ,  0.       ,  0.       ,  9.22353  ,  8.721569 ,\n",
              "         0.       ,  0.       ,  0.       ],\n",
              "       [ 0.       ,  0.       ,  0.       ,  5.584314 ,  8.219608 ,\n",
              "         0.       ,  0.       ,  0.       ],\n",
              "       [ 0.       ,  0.       ,  0.       ,  0.1882353,  0.5647059,\n",
              "         0.       ,  0.       ,  0.       ]], dtype=float32)"
            ]
          },
          "metadata": {},
          "execution_count": 66
        }
      ]
    },
    {
      "cell_type": "code",
      "source": [
        "preprocessed_img = np_im.astype(np.float32) / 255 * 16"
      ],
      "metadata": {
        "id": "_yUNqraVmP85"
      },
      "execution_count": 67,
      "outputs": []
    },
    {
      "cell_type": "code",
      "source": [
        "preprocessed_img.shape"
      ],
      "metadata": {
        "id": "X0wovf73n4k6",
        "outputId": "7e0925ea-ac8b-47d2-a585-a678b9b525cd",
        "colab": {
          "base_uri": "https://localhost:8080/"
        }
      },
      "execution_count": 68,
      "outputs": [
        {
          "output_type": "execute_result",
          "data": {
            "text/plain": [
              "(8, 8)"
            ]
          },
          "metadata": {},
          "execution_count": 68
        }
      ]
    },
    {
      "cell_type": "code",
      "source": [
        "preprocessed_img[None].shape"
      ],
      "metadata": {
        "id": "ZN-9Zs5Xn4nZ",
        "outputId": "796844ef-42fb-4178-981f-cef15cc86ca8",
        "colab": {
          "base_uri": "https://localhost:8080/"
        }
      },
      "execution_count": 69,
      "outputs": [
        {
          "output_type": "execute_result",
          "data": {
            "text/plain": [
              "(1, 8, 8)"
            ]
          },
          "metadata": {},
          "execution_count": 69
        }
      ]
    },
    {
      "cell_type": "code",
      "source": [
        "preprocessed_img.flatten()[None].shape"
      ],
      "metadata": {
        "id": "-YL57rVpopiK",
        "outputId": "cdb32d87-5675-4fa6-b718-4db7d9cc411d",
        "colab": {
          "base_uri": "https://localhost:8080/"
        }
      },
      "execution_count": 70,
      "outputs": [
        {
          "output_type": "execute_result",
          "data": {
            "text/plain": [
              "(1, 64)"
            ]
          },
          "metadata": {},
          "execution_count": 70
        }
      ]
    },
    {
      "cell_type": "code",
      "source": [
        "# preprocessed_img.reshape[-1].shape # other way to flatten your image"
      ],
      "metadata": {
        "id": "OESRcXVPoCll"
      },
      "execution_count": null,
      "outputs": []
    },
    {
      "cell_type": "code",
      "source": [
        "model.predict(preprocessed_img.flatten()[None])"
      ],
      "metadata": {
        "id": "HmCIbrNkoCo6",
        "outputId": "6d52d2c4-e24d-46c0-801e-2b1ea5a5d4ad",
        "colab": {
          "base_uri": "https://localhost:8080/"
        }
      },
      "execution_count": 71,
      "outputs": [
        {
          "output_type": "execute_result",
          "data": {
            "text/plain": [
              "array([1])"
            ]
          },
          "metadata": {},
          "execution_count": 71
        }
      ]
    }
  ]
}