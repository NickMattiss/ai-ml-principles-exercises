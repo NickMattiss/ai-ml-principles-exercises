{
  "nbformat": 4,
  "nbformat_minor": 0,
  "metadata": {
    "colab": {
      "provenance": [],
      "authorship_tag": "ABX9TyNkUsYGbFnC/fgXdxaLTfJm",
      "include_colab_link": true
    },
    "kernelspec": {
      "name": "python3",
      "display_name": "Python 3"
    },
    "language_info": {
      "name": "python"
    }
  },
  "cells": [
    {
      "cell_type": "markdown",
      "metadata": {
        "id": "view-in-github",
        "colab_type": "text"
      },
      "source": [
        "<a href=\"https://colab.research.google.com/github/daniel-falk/ai-ml-principles-exercises/blob/main/ML-training/intro-to-libraries/intro_to_tensorflow_keras.ipynb\" target=\"_parent\"><img src=\"https://colab.research.google.com/assets/colab-badge.svg\" alt=\"Open In Colab\"/></a>"
      ]
    },
    {
      "cell_type": "markdown",
      "source": [
        "# Training models with Keras (high level TF API)\n",
        "Keras is the high-level API built into TensorFlow. Keras makes it reasonably easy to define deep learning models and train them. In this simple example we will train a model to discriminate between two clusters in a 2D point cloud."
      ],
      "metadata": {
        "id": "cjiDlKzA-nmY"
      }
    },
    {
      "cell_type": "code",
      "execution_count": null,
      "metadata": {
        "id": "5brfL1o9Qntr"
      },
      "outputs": [],
      "source": [
        "import tensorflow as tf\n",
        "import numpy as np"
      ]
    },
    {
      "cell_type": "code",
      "source": [
        "# This is the 2D point cloud that we will train the model with\n",
        "points = np.array([\n",
        "    [1, 1],\n",
        "    [15, 23],\n",
        "    [0, 1],\n",
        "    [45, 16],\n",
        "    [32, 21],\n",
        "    [-1, 0]\n",
        "])\n",
        "\n",
        "# This is the classes (labels) that is ground-truth for the model training\n",
        "outputs = np.array([\n",
        "    [1, 0],  # class 1\n",
        "    [0, 1],  # class 2\n",
        "    [1, 0],  # class 1\n",
        "    [0, 1],  # class 2\n",
        "    [0, 1],  # class 2\n",
        "    [1, 0],  # class 1\n",
        "])"
      ],
      "metadata": {
        "id": "nXmG3lE7RByc"
      },
      "execution_count": null,
      "outputs": []
    },
    {
      "cell_type": "markdown",
      "source": [
        "As an extra exercise you can use `matplotlib` to plot the points in the 2D space and see if you can spot the two clusters."
      ],
      "metadata": {
        "id": "_ouH4vLU_bnf"
      }
    },
    {
      "cell_type": "code",
      "source": [
        "# Define the architecture of the neural network model\n",
        "model = tf.keras.Sequential([\n",
        "    tf.keras.layers.Dense(input_shape=(2,), units=5, activation=\"relu\"),\n",
        "    tf.keras.layers.Dense(units=4, activation=\"relu\"),\n",
        "    tf.keras.layers.Dense(units=2, activation=\"softmax\")\n",
        "])"
      ],
      "metadata": {
        "id": "YVYQe8ZXQrmM"
      },
      "execution_count": null,
      "outputs": []
    },
    {
      "cell_type": "code",
      "source": [
        "# Compile the model by specifying parameters needed for the training\n",
        "model.compile(\n",
        "    optimizer='sgd',\n",
        "    loss=tf.keras.losses.MeanSquaredError(),\n",
        "    metrics=['accuracy']\n",
        ")"
      ],
      "metadata": {
        "id": "7YoRQNr8Q7nu"
      },
      "execution_count": null,
      "outputs": []
    },
    {
      "cell_type": "code",
      "source": [
        "model.summary()"
      ],
      "metadata": {
        "id": "nEKRDG8ro-qF"
      },
      "execution_count": null,
      "outputs": []
    },
    {
      "cell_type": "code",
      "source": [
        "# Train the model\n",
        "model.fit(points, outputs, epochs=500)"
      ],
      "metadata": {
        "id": "buuvIzPKo-uW"
      },
      "execution_count": null,
      "outputs": []
    },
    {
      "cell_type": "code",
      "source": [
        "model.save(\"mymodel\")"
      ],
      "metadata": {
        "id": "bfBbi9gbsJlB"
      },
      "execution_count": null,
      "outputs": []
    },
    {
      "cell_type": "code",
      "source": [
        "!ls"
      ],
      "metadata": {
        "id": "AsRsyWmLsMbR"
      },
      "execution_count": null,
      "outputs": []
    },
    {
      "cell_type": "code",
      "source": [
        "!ls mymodel"
      ],
      "metadata": {
        "id": "Qe7T5fv6sNS0"
      },
      "execution_count": null,
      "outputs": []
    },
    {
      "cell_type": "code",
      "source": [
        "# Predict with the model\n",
        "new_model = tf.keras.models.load_model(\"mymodel\")\n",
        "cls_scores = new_model.predict([[0, 1]])[0]\n",
        "predicted_cls = np.argmax(cls_scores)\n",
        "predicted_score = cls_scores[predicted_cls]\n",
        "print(f\"Sample was class {predicted_cls} with {predicted_score * 100:.1f}% certainty\")"
      ],
      "metadata": {
        "id": "_03-fEcMsQV-"
      },
      "execution_count": null,
      "outputs": []
    }
  ]
}