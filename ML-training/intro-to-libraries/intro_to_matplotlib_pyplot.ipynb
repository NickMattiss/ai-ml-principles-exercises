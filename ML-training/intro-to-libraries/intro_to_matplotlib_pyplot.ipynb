{
  "nbformat": 4,
  "nbformat_minor": 0,
  "metadata": {
    "colab": {
      "provenance": [],
      "authorship_tag": "ABX9TyMFPrm96cTa0RKRZ9LILN7d",
      "include_colab_link": true
    },
    "kernelspec": {
      "name": "python3",
      "display_name": "Python 3"
    },
    "language_info": {
      "name": "python"
    }
  },
  "cells": [
    {
      "cell_type": "markdown",
      "metadata": {
        "id": "view-in-github",
        "colab_type": "text"
      },
      "source": [
        "<a href=\"https://colab.research.google.com/github/daniel-falk/ai-ml-principles-exercises/blob/main/ML-training/intro-to-libraries/intro_to_matplotlib_pyplot.ipynb\" target=\"_parent\"><img src=\"https://colab.research.google.com/assets/colab-badge.svg\" alt=\"Open In Colab\"/></a>"
      ]
    },
    {
      "cell_type": "markdown",
      "source": [
        "# Matplotlib can be used to plot different styles of graphs\n",
        "It is compatilbe with `numpy`.\n",
        "\n",
        "If using `matplotlib` in a python script, the graph will be interactive and it is possible to pan and zoom in it. This is however not as well supported in notebooks where it can be hard to make the `matplotlib` graphs interactive."
      ],
      "metadata": {
        "id": "zFMtlqqZ-mcx"
      }
    },
    {
      "cell_type": "code",
      "execution_count": null,
      "metadata": {
        "id": "wSXwwlAH-amN"
      },
      "outputs": [],
      "source": [
        "import matplotlib.pyplot as plt\n",
        "import numpy as np"
      ]
    },
    {
      "cell_type": "code",
      "source": [
        "plt.plot([0, 2, 3, 4])\n",
        "plt.show()"
      ],
      "metadata": {
        "id": "kvPFpDb2-l93"
      },
      "execution_count": null,
      "outputs": []
    },
    {
      "cell_type": "code",
      "source": [
        "# In notebooks, we do not need to call plt.show()\n",
        "plt.plot([0, 2, 3, 4])"
      ],
      "metadata": {
        "id": "qkSzltcU_qvV"
      },
      "execution_count": null,
      "outputs": []
    },
    {
      "cell_type": "code",
      "source": [
        "x = np.linspace(start=0, stop=2*np.pi, num=100)\n",
        "y_sin = np.sin(x)\n",
        "y_cos = np.cos(x)\n",
        "\n",
        "plt.plot(x, y_sin, color=\"red\", label=\"sine\")\n",
        "plt.plot(x, y_cos, color=\"blue\", label=\"cosine\")\n",
        "plt.legend()\n",
        "plt.xlabel('x')\n",
        "plt.ylabel('f(x)')\n",
        "plt.title(\"A sine wave\")"
      ],
      "metadata": {
        "id": "GMY4LYb5-9lo"
      },
      "execution_count": null,
      "outputs": []
    },
    {
      "cell_type": "code",
      "source": [
        "plt.title(\"Plotting points on a circle\")\n",
        "plt.scatter(y_cos, y_sin)\n",
        "plt.xlabel(\"cos(x)\")\n",
        "plt.ylabel(\"sin(x)\")"
      ],
      "metadata": {
        "id": "7jNDvEVI_mL5"
      },
      "execution_count": null,
      "outputs": []
    },
    {
      "cell_type": "code",
      "source": [
        "num_dots = 100\n",
        "data = np.random.random(size=(num_dots, 4))\n",
        "data[num_dots//2:] += 2  # Make half of the points significanly different\n",
        "\n",
        "plt.title(\"Two random clusters\")\n",
        "plt.scatter(data[:,0], data[:,1], c=data[:,2], s=data[:,3] * 100, alpha=0.3, cmap='viridis')\n",
        "plt.colorbar();"
      ],
      "metadata": {
        "id": "k-zGLPIBBBb-"
      },
      "execution_count": null,
      "outputs": []
    },
    {
      "cell_type": "code",
      "source": [
        "from matplotlib import cm\n",
        "from matplotlib.ticker import LinearLocator\n",
        "\n",
        "fig, ax = plt.subplots(subplot_kw={\"projection\": \"3d\"})\n",
        "\n",
        "# Make data.\n",
        "X = np.arange(-5, 5, 0.25)\n",
        "Y = np.arange(-5, 5, 0.25)\n",
        "X, Y = np.meshgrid(X, Y)\n",
        "R = np.sqrt(X**2 + Y**2)\n",
        "Z = np.sin(R)\n",
        "\n",
        "# Plot the surface.\n",
        "surf = ax.plot_surface(X, Y, Z, cmap=cm.coolwarm,\n",
        "                       linewidth=0, antialiased=False)\n",
        "\n",
        "# Customize the z axis.\n",
        "ax.set_zlim(-1.01, 1.01)\n",
        "ax.zaxis.set_major_locator(LinearLocator(10))\n",
        "\n",
        "# Add a color bar which maps values to colors.\n",
        "fig.colorbar(surf, shrink=0.5, aspect=5)"
      ],
      "metadata": {
        "id": "x1PFP0CxBhLp"
      },
      "execution_count": null,
      "outputs": []
    },
    {
      "cell_type": "markdown",
      "source": [
        "# Multiple graphs\n",
        "subplots can be used to plot multiple graphs in the same window"
      ],
      "metadata": {
        "id": "p-4WeW7VHgD8"
      }
    },
    {
      "cell_type": "code",
      "source": [
        "fig, axs = plt.subplots(2)\n",
        "axs[0].plot([0, 2, 3, 4])\n",
        "axs[1].scatter([0, 2, 3, 4], [0, 0, 3, 1])"
      ],
      "metadata": {
        "id": "NvllMwvjHYu4"
      },
      "execution_count": null,
      "outputs": []
    },
    {
      "cell_type": "code",
      "source": [
        "names = ['group_a', 'group_b', 'group_c']\n",
        "values = [1, 10, 100]\n",
        "\n",
        "plt.figure(figsize=(9, 3))\n",
        "\n",
        "plt.subplot(131)\n",
        "plt.bar(names, values)\n",
        "plt.subplot(132)\n",
        "plt.scatter(names, values)\n",
        "plt.subplot(133)\n",
        "plt.plot(names, values)\n",
        "\n",
        "plt.suptitle('Categorical Plotting')"
      ],
      "metadata": {
        "id": "MUkyNHkuLeC6"
      },
      "execution_count": null,
      "outputs": []
    },
    {
      "cell_type": "markdown",
      "source": [
        "# Matplotlib to show images\n",
        "`matplotlib` can also be used to show images."
      ],
      "metadata": {
        "id": "pPtS6zgjGKN0"
      }
    },
    {
      "cell_type": "code",
      "source": [
        "plt.imshow(np.random.random(size=(480, 640, 3)))"
      ],
      "metadata": {
        "id": "Sj8VM4rEER-I"
      },
      "execution_count": null,
      "outputs": []
    },
    {
      "cell_type": "code",
      "source": [
        "import cv2\n",
        "\n",
        "!wget https://upload.wikimedia.org/wikipedia/commons/8/8a/Automation_of_foundry_with_robot.jpg\n",
        "bgr_img = cv2.imread(\"Automation_of_foundry_with_robot.jpg\")\n",
        "rgb_img = cv2.cvtColor(bgr_img, cv2.COLOR_BGR2RGB)\n",
        "plt.imshow(bgr_img)"
      ],
      "metadata": {
        "id": "kkwUefhiGWbe"
      },
      "execution_count": null,
      "outputs": []
    },
    {
      "cell_type": "code",
      "source": [
        "# Gray scaled images can be visualized with different color maps\n",
        "gray_img = cv2.cvtColor(bgr_img, cv2.COLOR_BGR2GRAY)\n",
        "\n",
        "fig, axs = plt.subplots(2)\n",
        "axs[0].imshow(gray_img)\n",
        "axs[1].imshow(gray_img, cmap=\"hot\")"
      ],
      "metadata": {
        "id": "ELN5L5T4Gg-S"
      },
      "execution_count": null,
      "outputs": []
    }
  ]
}