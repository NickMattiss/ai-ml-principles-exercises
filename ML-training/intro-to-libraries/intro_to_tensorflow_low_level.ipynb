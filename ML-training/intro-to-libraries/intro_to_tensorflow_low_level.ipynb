{
  "nbformat": 4,
  "nbformat_minor": 0,
  "metadata": {
    "colab": {
      "provenance": [],
      "authorship_tag": "ABX9TyNW4od2xDdgZz/oTuTrm1vO",
      "include_colab_link": true
    },
    "kernelspec": {
      "name": "python3",
      "display_name": "Python 3"
    },
    "language_info": {
      "name": "python"
    }
  },
  "cells": [
    {
      "cell_type": "markdown",
      "metadata": {
        "id": "view-in-github",
        "colab_type": "text"
      },
      "source": [
        "<a href=\"https://colab.research.google.com/github/daniel-falk/ai-ml-principles-exercises/blob/main/ML-training/intro-to-libraries/intro_to_tensorflow_low_level.ipynb\" target=\"_parent\"><img src=\"https://colab.research.google.com/assets/colab-badge.svg\" alt=\"Open In Colab\"/></a>"
      ]
    },
    {
      "cell_type": "markdown",
      "source": [
        "# Using TensorFlow with the low-level API\n",
        "For easy use of TensorFlow to build and train neural network models, see the intro to Keras example. This example will instead show the low-level API in TensorFlow which can be used to perform advanced operations such as gradient calculation and manual backpropagation.\n",
        "\n",
        "Note that the API changed significantly between TF 1 and TF2, so make sure that you are using version 2.x"
      ],
      "metadata": {
        "id": "eNEyjtDcAibv"
      }
    },
    {
      "cell_type": "code",
      "execution_count": null,
      "metadata": {
        "id": "AKMXStpmDNE6"
      },
      "outputs": [],
      "source": [
        "import tensorflow as tf\n",
        "\n",
        "tf.__version__"
      ]
    },
    {
      "cell_type": "code",
      "source": [
        "import numpy as np\n",
        "\n",
        "# Start with creating a simpel dataset, the features could be\n",
        "# e.g. the different genres a movie can be given.\n",
        "movie_genres = np.array([\n",
        "    [0, 1, 1],\n",
        "    [1, 1, 1],\n",
        "    [1, 1, 0],\n",
        "    [0, 1, 0],\n",
        "    [1, 0, 1]],\n",
        "    dtype='float32')\n",
        "\n",
        "# While the ground-truths are the ratings they have got by the viewers\n",
        "movie_ratings = np.array([\n",
        "    [1.0],\n",
        "    [0.5],\n",
        "    [0.0],\n",
        "    [0.0],\n",
        "    [0.7]],\n",
        "    dtype='float32')"
      ],
      "metadata": {
        "id": "fVgmeAcoDR49"
      },
      "execution_count": null,
      "outputs": []
    },
    {
      "cell_type": "code",
      "source": [
        "# The prediction is based on weights, we start by setting them randomly\n",
        "w = tf.Variable(tf.random.normal([3, 1], stddev=0.3), name='weights')\n",
        "w0 = tf.identity(w) # copy the tensor values for later use\n",
        "w0"
      ],
      "metadata": {
        "id": "U3dqeTLUDX3R"
      },
      "execution_count": null,
      "outputs": []
    },
    {
      "cell_type": "code",
      "source": [
        "# We then calculate the predicted ratings as w*movie_genres and measures\n",
        "# with our loss function how far that is from the truth\n",
        "with tf.GradientTape() as tape:\n",
        "  prediction = tf.sigmoid(tf.matmul(movie_genres, w), name='output')\n",
        "  loss = tf.losses.mean_squared_error(movie_ratings, prediction)"
      ],
      "metadata": {
        "id": "_Su4GDUgKfff"
      },
      "execution_count": null,
      "outputs": []
    },
    {
      "cell_type": "code",
      "source": [
        "# Since using the gradient tape, the derivative of the loss\n",
        "# with respect to the weights was automatically calculated\n",
        "gradients = tape.gradient(loss, w)"
      ],
      "metadata": {
        "id": "BM-bBbAcKkuU"
      },
      "execution_count": null,
      "outputs": []
    },
    {
      "cell_type": "code",
      "source": [
        "p0 = tf.identity(prediction)\n",
        "l0 = tf.identity(loss)\n",
        "g0 = tf.identity(gradients)\n",
        "print(\"Prediction:\", p0)\n",
        "print(\"Loss:\", l0)\n",
        "print(\"Gradients:\", g0)"
      ],
      "metadata": {
        "id": "cmm6KxxCL2xP"
      },
      "execution_count": null,
      "outputs": []
    },
    {
      "cell_type": "code",
      "source": [
        "# To take one step closer towards the ground-truth ratings, we can\n",
        "# update the weights as w = w - lr * gradients\n",
        "learning_rate = tf.constant(0.01)\n",
        "update_weights = w.assign(w - tf.multiply(learning_rate, gradients), name='update_weights')"
      ],
      "metadata": {
        "id": "8PEuaURVLobI"
      },
      "execution_count": null,
      "outputs": []
    },
    {
      "cell_type": "code",
      "source": [
        "# Use the updated weights to make a new prediction of the ratings\n",
        "prediction = tf.sigmoid(tf.matmul(movie_genres, w), name='output')\n",
        "loss = tf.losses.mean_squared_error(movie_ratings, prediction)"
      ],
      "metadata": {
        "id": "OI4IENsPLs6S"
      },
      "execution_count": null,
      "outputs": []
    },
    {
      "cell_type": "code",
      "source": [
        "print(f\"Prediction: {tf.reshape(prediction, -1)}\")\n",
        "print(f\"Change in prediction: {tf.reshape(prediction - p0, -1)}\")\n",
        "print(f\"Loss: {loss}\")\n",
        "print(f\"Change of loss: {loss - l0}\")"
      ],
      "metadata": {
        "id": "1laq-eqDM53R"
      },
      "execution_count": null,
      "outputs": []
    },
    {
      "cell_type": "markdown",
      "source": [
        "We can see that the loss for all predicted sampels was smaller after updating the weights. If we do this multiple times we will get closer and closer to the ground truth ratings. This iterative update is called a training loop."
      ],
      "metadata": {
        "id": "4WlJUzUmDL5I"
      }
    }
  ]
}