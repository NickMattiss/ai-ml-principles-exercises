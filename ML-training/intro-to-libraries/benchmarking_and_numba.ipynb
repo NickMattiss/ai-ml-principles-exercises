{
  "nbformat": 4,
  "nbformat_minor": 0,
  "metadata": {
    "colab": {
      "provenance": [],
      "authorship_tag": "ABX9TyMJS2vOPaClknyjDbQlfal8",
      "include_colab_link": true
    },
    "kernelspec": {
      "name": "python3",
      "display_name": "Python 3"
    },
    "language_info": {
      "name": "python"
    }
  },
  "cells": [
    {
      "cell_type": "markdown",
      "metadata": {
        "id": "view-in-github",
        "colab_type": "text"
      },
      "source": [
        "<a href=\"https://colab.research.google.com/github/daniel-falk/ai-ml-principles-exercises/blob/main/ML-training/intro-to-libraries/benchmarking_and_numba.ipynb\" target=\"_parent\"><img src=\"https://colab.research.google.com/assets/colab-badge.svg\" alt=\"Open In Colab\"/></a>"
      ]
    },
    {
      "cell_type": "markdown",
      "source": [
        "# Benchmarking python code\n",
        "Benchmarking should not only be done when optimizing scripts but also at each change of bottleneck code to monitor the efficiency over time.\n",
        "\n",
        "Lets start with creating a large array."
      ],
      "metadata": {
        "id": "SxQQGGweUNFo"
      }
    },
    {
      "cell_type": "code",
      "execution_count": null,
      "metadata": {
        "id": "Im6-netBTP-m"
      },
      "outputs": [],
      "source": [
        "import random\n",
        "\n",
        "large_array = [random.random() for i in range(10_000_000)]"
      ]
    },
    {
      "cell_type": "markdown",
      "source": [
        "## Benchmarking using the naive method\n",
        "The library `time` can be used to get the current time. We can use that to measure the difference in time before and after an operation."
      ],
      "metadata": {
        "id": "yVHtbZtXUlYM"
      }
    },
    {
      "cell_type": "code",
      "source": [
        "import time\n",
        "\n",
        "t0 = time.time()\n",
        "new_array = [v / 2 for v in large_array]\n",
        "t1 = time.time()\n",
        "\n",
        "print(f\"Operation took {(t1 - t0) * 1_000 : .2f} mS\")"
      ],
      "metadata": {
        "id": "hfgVTJBmTihq"
      },
      "execution_count": null,
      "outputs": []
    },
    {
      "cell_type": "markdown",
      "source": [
        "Run the code multiple times and you will se that the duration differs due to e.g. current load of the computer.\n",
        "\n",
        "To deal with this we can run the experiment multiple times."
      ],
      "metadata": {
        "id": "VZ2fzx_cU25x"
      }
    },
    {
      "cell_type": "code",
      "source": [
        "durations = []\n",
        "for _ in range(10):\n",
        "  t0 = time.time()\n",
        "  new_array = [v / 2 for v in large_array]\n",
        "  t1 = time.time()\n",
        "  durations.append((t1 - t0) * 1_000)\n",
        "\n",
        "print(f\"Operation took in average {sum(durations) / len(durations): .2f} mS from {len(durations)} experiments\")"
      ],
      "metadata": {
        "id": "we7ONcCNUBRZ"
      },
      "execution_count": null,
      "outputs": []
    },
    {
      "cell_type": "markdown",
      "source": [
        "What if the duration of the operation changes significantly? Then we need to change the number of experiments we run and also the convertion of the units we present the number in."
      ],
      "metadata": {
        "id": "V7ZnTMuLWEV3"
      }
    },
    {
      "cell_type": "code",
      "source": [
        "import itertools\n",
        "\n",
        "# Concatenate the large array ten time to create a 10x larger array\n",
        "very_large_array = list(itertools.chain(*[large_array for _ in range(10)]))\n",
        "\n",
        "durations = []\n",
        "for _ in range(3):\n",
        "  t0 = time.time()\n",
        "  new_array = [v / 2 for v in very_large_array]\n",
        "  t1 = time.time()\n",
        "  durations.append(t1 - t0)\n",
        "\n",
        "print(f\"Operation took in average {sum(durations) / len(durations): .2f} S from {len(durations)} experiments\")"
      ],
      "metadata": {
        "id": "-qBDVj9OU_Jv"
      },
      "execution_count": null,
      "outputs": []
    },
    {
      "cell_type": "markdown",
      "source": [
        "# Benchmarking with 'timeit'\n",
        "We do not have to invent all this benchmarking code over and over again in every project we do. There is a built-in module called `timeit` that can help us with it."
      ],
      "metadata": {
        "id": "sSWm0WB7YKra"
      }
    },
    {
      "cell_type": "code",
      "source": [
        "import timeit\n",
        "\n",
        "def my_function():\n",
        "  return [v / 2 for v in large_array]\n",
        "\n",
        "experiments = 10\n",
        "mean_duration = timeit.timeit(my_function, number=experiments)\n",
        "print(f\"Operation took in average {mean_duration: .2f} S from {experiments} experiments\")"
      ],
      "metadata": {
        "id": "QnXn9bvjWoMy"
      },
      "execution_count": null,
      "outputs": []
    },
    {
      "cell_type": "markdown",
      "source": [
        "We got rid of some code, but the two issues stated above still stands. If we are using notebooks, e.g. `Colab` or `Jupyter`, then we can use the magic function `%time` to measure the execution time of a single line, or `%%time` to measure the execution time of the full cell."
      ],
      "metadata": {
        "id": "7lEbAP2ga3tr"
      }
    },
    {
      "cell_type": "code",
      "source": [
        "%time new_array = [v / 2 for v in large_array]"
      ],
      "metadata": {
        "id": "ST2iOvNRY0_L"
      },
      "execution_count": null,
      "outputs": []
    },
    {
      "cell_type": "code",
      "source": [
        "%%time\n",
        "\n",
        "new_array = [v / 2 for v in large_array]\n",
        "print(len(new_array))"
      ],
      "metadata": {
        "id": "0aSD0VOPbQVH"
      },
      "execution_count": null,
      "outputs": []
    },
    {
      "cell_type": "markdown",
      "source": [
        "We can also use the magic functions `%timeit` and `%%timeit` that will measaure multiple experiments to get the mean time (and the variance)."
      ],
      "metadata": {
        "id": "FJBRIDIDbcwt"
      }
    },
    {
      "cell_type": "code",
      "source": [
        "%timeit new_array = [v / 2 for v in large_array]"
      ],
      "metadata": {
        "id": "NBsslR0xbZmX"
      },
      "execution_count": null,
      "outputs": []
    },
    {
      "cell_type": "code",
      "source": [
        "%%timeit\n",
        "\n",
        "new_array = [v / 2 for v in large_array]\n",
        "print(len(new_array))"
      ],
      "metadata": {
        "id": "tk-JND5MboeT"
      },
      "execution_count": null,
      "outputs": []
    },
    {
      "cell_type": "markdown",
      "source": [
        "The `%timeit` magic functions will automatically select a number of iterations to run based on how much time each experiment takes."
      ],
      "metadata": {
        "id": "tjdG_w-7b4iW"
      }
    },
    {
      "cell_type": "code",
      "source": [
        "%timeit new_array = [v / 2 for v in large_array[:10]]"
      ],
      "metadata": {
        "id": "80fl-nHobwhX"
      },
      "execution_count": null,
      "outputs": []
    },
    {
      "cell_type": "markdown",
      "source": [
        "You can manually override the number of runs and loops in each run with the `-r` and `-n` options."
      ],
      "metadata": {
        "id": "T7uk8Rk6cVjH"
      }
    },
    {
      "cell_type": "code",
      "source": [
        "%timeit -r 2 -n 2 new_array = [v / 2 for v in large_array]"
      ],
      "metadata": {
        "id": "xpJ-ZXwWb3HR"
      },
      "execution_count": null,
      "outputs": []
    },
    {
      "cell_type": "markdown",
      "source": [
        "# Optimizing code with numba\n",
        "We will later see how much code, especially vector operations, can be optimized using libraries such as `numpy`, but some code will not be helped by `numpy`. In these cases, just in time compilation with e.g. `numba` can be used."
      ],
      "metadata": {
        "id": "JbsfYK_3criM"
      }
    },
    {
      "cell_type": "code",
      "source": [
        "import numba"
      ],
      "metadata": {
        "id": "NBxXZimGdCm2"
      },
      "execution_count": null,
      "outputs": []
    },
    {
      "cell_type": "code",
      "source": [
        "def my_function(max_val):\n",
        "  sum_of_even = 0\n",
        "  for value in range(max_val):\n",
        "    if value % 2 == 0:\n",
        "      sum_of_even += value\n",
        "  return sum_of_even\n",
        "\n",
        "%timeit my_function(1_000_000)"
      ],
      "metadata": {
        "id": "J8bkQuyIdEnC"
      },
      "execution_count": null,
      "outputs": []
    },
    {
      "cell_type": "code",
      "source": [
        "optimized = numba.njit(my_function)\n",
        "%timeit optimized(1_000_000)"
      ],
      "metadata": {
        "id": "V3uF4lzqdjVo"
      },
      "execution_count": null,
      "outputs": []
    },
    {
      "cell_type": "markdown",
      "source": [
        "Be aware that the compilation takes place the first time the function is called. For some tasks the compilation step might take more time than the full execution of the function calls, but if called many times it is probably worth it, in that case you might want to call the function once before benchmarking it."
      ],
      "metadata": {
        "id": "nBgO2WBblDw9"
      }
    },
    {
      "cell_type": "code",
      "source": [
        "optimized = numba.njit(my_function)\n",
        "%time optimized(1_000_000)\n",
        "%timeit optimized(1_000_000)"
      ],
      "metadata": {
        "id": "4RvqGSCjd_ZX"
      },
      "execution_count": null,
      "outputs": []
    }
  ]
}